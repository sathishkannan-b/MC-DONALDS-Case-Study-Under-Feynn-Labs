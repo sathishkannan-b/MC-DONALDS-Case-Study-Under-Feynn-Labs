{
 "cells": [
  {
   "cell_type": "markdown",
   "metadata": {
    "id": "CQZ5NqJDLPO5"
   },
   "source": [
    "# McDonald's Case Study : Fast Food"
   ]
  },
  {
   "cell_type": "code",
   "execution_count": 1,
   "metadata": {
    "id": "V5LFjGwdL-IL"
   },
   "outputs": [],
   "source": [
    "import pandas as pd"
   ]
  },
  {
   "cell_type": "markdown",
   "metadata": {
    "id": "Gn4tHY9-yPOt"
   },
   "source": [
    "**Key Characteristics of the Data Set**"
   ]
  },
  {
   "cell_type": "code",
   "execution_count": 2,
   "metadata": {
    "colab": {
     "base_uri": "https://localhost:8080/"
    },
    "id": "dl0JEOMoTPhc",
    "outputId": "69177281-9009-4639-a571-f6839bfa60f7"
   },
   "outputs": [
    {
     "name": "stdout",
     "output_type": "stream",
     "text": [
      "['yummy', 'convenient', 'spicy', 'fattening', 'greasy', 'fast', 'cheap', 'tasty', 'expensive', 'healthy', 'disgusting', 'Like', 'Age', 'VisitFrequency', 'Gender']\n"
     ]
    }
   ],
   "source": [
    "mcdonalds = pd.read_csv(\"C:/Users/sathi/Downloads/mcdonalds.csv\")\n",
    "column_names = mcdonalds.columns.tolist()\n",
    "print(column_names)"
   ]
  },
  {
   "cell_type": "markdown",
   "metadata": {
    "id": "gTc6s2ziMIe5"
   },
   "source": [
    "**Size of the Data Set**"
   ]
  },
  {
   "cell_type": "code",
   "execution_count": 3,
   "metadata": {
    "colab": {
     "base_uri": "https://localhost:8080/"
    },
    "id": "nQcqnLqrTPpg",
    "outputId": "a7956093-9a43-4894-d49a-d97e3d928854"
   },
   "outputs": [
    {
     "name": "stdout",
     "output_type": "stream",
     "text": [
      "(1453, 15)\n"
     ]
    }
   ],
   "source": [
    "dimensions = mcdonalds.shape\n",
    "print(dimensions)"
   ]
  },
  {
   "cell_type": "markdown",
   "metadata": {
    "id": "8eldY6SjMWKG"
   },
   "source": [
    "**Some Rows of the Data Set**"
   ]
  },
  {
   "cell_type": "code",
   "execution_count": 4,
   "metadata": {
    "colab": {
     "base_uri": "https://localhost:8080/"
    },
    "id": "Gysx488DTPsh",
    "outputId": "9551f9ec-5091-47e8-bf78-c7fd324105c4"
   },
   "outputs": [
    {
     "name": "stdout",
     "output_type": "stream",
     "text": [
      "  yummy convenient spicy fattening greasy fast cheap tasty expensive healthy  \\\n",
      "0    No        Yes    No       Yes     No  Yes   Yes    No       Yes      No   \n",
      "1   Yes        Yes    No       Yes    Yes  Yes   Yes   Yes       Yes      No   \n",
      "2    No        Yes   Yes       Yes    Yes  Yes    No   Yes       Yes     Yes   \n",
      "\n",
      "  disgusting Like  Age      VisitFrequency  Gender  \n",
      "0         No   -3   61  Every three months  Female  \n",
      "1         No   +2   51  Every three months  Female  \n",
      "2         No   +1   62  Every three months  Female  \n"
     ]
    }
   ],
   "source": [
    "head_data = mcdonalds.head(3)\n",
    "print(head_data)"
   ]
  },
  {
   "cell_type": "markdown",
   "metadata": {
    "id": "jzC72PKAOv2n"
   },
   "source": [
    "**Checking Null Value and Data Type**"
   ]
  },
  {
   "cell_type": "code",
   "execution_count": 5,
   "metadata": {
    "colab": {
     "base_uri": "https://localhost:8080/"
    },
    "id": "vNHoR6QQOax9",
    "outputId": "4eff295a-b8e7-46e8-9e5e-f59cf674bf2c"
   },
   "outputs": [
    {
     "name": "stdout",
     "output_type": "stream",
     "text": [
      "<class 'pandas.core.frame.DataFrame'>\n",
      "RangeIndex: 1453 entries, 0 to 1452\n",
      "Data columns (total 15 columns):\n",
      " #   Column          Non-Null Count  Dtype \n",
      "---  ------          --------------  ----- \n",
      " 0   yummy           1453 non-null   object\n",
      " 1   convenient      1453 non-null   object\n",
      " 2   spicy           1453 non-null   object\n",
      " 3   fattening       1453 non-null   object\n",
      " 4   greasy          1453 non-null   object\n",
      " 5   fast            1453 non-null   object\n",
      " 6   cheap           1453 non-null   object\n",
      " 7   tasty           1453 non-null   object\n",
      " 8   expensive       1453 non-null   object\n",
      " 9   healthy         1453 non-null   object\n",
      " 10  disgusting      1453 non-null   object\n",
      " 11  Like            1453 non-null   object\n",
      " 12  Age             1453 non-null   int64 \n",
      " 13  VisitFrequency  1453 non-null   object\n",
      " 14  Gender          1453 non-null   object\n",
      "dtypes: int64(1), object(14)\n",
      "memory usage: 170.4+ KB\n"
     ]
    },
    {
     "data": {
      "text/plain": [
       "yummy             0\n",
       "convenient        0\n",
       "spicy             0\n",
       "fattening         0\n",
       "greasy            0\n",
       "fast              0\n",
       "cheap             0\n",
       "tasty             0\n",
       "expensive         0\n",
       "healthy           0\n",
       "disgusting        0\n",
       "Like              0\n",
       "Age               0\n",
       "VisitFrequency    0\n",
       "Gender            0\n",
       "dtype: int64"
      ]
     },
     "execution_count": 5,
     "metadata": {},
     "output_type": "execute_result"
    }
   ],
   "source": [
    "mcdonalds.shape\n",
    "mcdonalds.head()\n",
    "mcdonalds.dtypes\n",
    "mcdonalds.info()\n",
    "mcdonalds.isnull().sum()"
   ]
  },
  {
   "cell_type": "markdown",
   "metadata": {},
   "source": [
    "### Number of segments in Histogram"
   ]
  },
  {
   "cell_type": "code",
   "execution_count": 6,
   "metadata": {},
   "outputs": [
    {
     "ename": "NameError",
     "evalue": "name 'np' is not defined",
     "output_type": "error",
     "traceback": [
      "\u001b[1;31m---------------------------------------------------------------------------\u001b[0m",
      "\u001b[1;31mNameError\u001b[0m                                 Traceback (most recent call last)",
      "Input \u001b[1;32mIn [6]\u001b[0m, in \u001b[0;36m<cell line: 3>\u001b[1;34m()\u001b[0m\n\u001b[0;32m      1\u001b[0m \u001b[38;5;28;01mfrom\u001b[39;00m \u001b[38;5;21;01msklearn\u001b[39;00m\u001b[38;5;21;01m.\u001b[39;00m\u001b[38;5;21;01mcluster\u001b[39;00m \u001b[38;5;28;01mimport\u001b[39;00m KMeans\n\u001b[0;32m      2\u001b[0m \u001b[38;5;66;03m# Set seed\u001b[39;00m\n\u001b[1;32m----> 3\u001b[0m \u001b[43mnp\u001b[49m\u001b[38;5;241m.\u001b[39mrandom\u001b[38;5;241m.\u001b[39mseed(\u001b[38;5;241m1234\u001b[39m)\n\u001b[0;32m      4\u001b[0m \u001b[38;5;66;03m# Number of clusters to consider\u001b[39;00m\n\u001b[0;32m      5\u001b[0m n_clusters_range \u001b[38;5;241m=\u001b[39m \u001b[38;5;28mrange\u001b[39m(\u001b[38;5;241m2\u001b[39m, \u001b[38;5;241m9\u001b[39m)\n",
      "\u001b[1;31mNameError\u001b[0m: name 'np' is not defined"
     ]
    }
   ],
   "source": [
    "from sklearn.cluster import KMeans\n",
    "# Set seed\n",
    "np.random.seed(1234)\n",
    "# Number of clusters to consider\n",
    "n_clusters_range = range(2, 9)\n",
    "# Perform k-means analysis with ten random restarts for each number of clus\n",
    "inertia_values = []\n",
    "for n_clusters in n_clusters_range:\n",
    " kmeans = KMeans(n_clusters=n_clusters, n_init=10, random_state=1234)\n",
    " kmeans.fit(MD_x)\n",
    " inertia_values.append(kmeans.inertia_)\n",
    "# Plot scree plot as a bar plot\n",
    "plt.figure()\n",
    "plt.bar(n_clusters_range, inertia_values, color='skyblue')\n",
    "plt.xlabel('Number of Segments')\n",
    "plt.ylabel('Inertia')\n",
    "plt.show()"
   ]
  },
  {
   "cell_type": "code",
   "execution_count": null,
   "metadata": {
    "colab": {
     "base_uri": "https://localhost:8080/",
     "height": 993
    },
    "id": "W78Sn1vWOa2p",
    "outputId": "82ca44bf-6966-4056-8d83-21b195b2580f"
   },
   "outputs": [],
   "source": [
    "import matplotlib.pyplot as plt\n",
    "import seaborn as sns\n",
    "\n",
    "# Gender\n",
    "plt.figure(figsize=(6, 6))\n",
    "plt.pie(mcdonalds['Gender'].value_counts(), colors=['cyan', 'black'], explode=[0, 0.1], labels=['Female', 'Male'], shadow=True, autopct='%.2f%%')\n",
    "plt.title('Gender', fontsize=15)\n",
    "plt.axis('off')\n",
    "plt.legend()\n",
    "plt.show()\n"
   ]
  },
  {
   "cell_type": "code",
   "execution_count": null,
   "metadata": {},
   "outputs": [],
   "source": [
    "# Age\n",
    "plt.figure(figsize=(15, 5))\n",
    "sns.countplot(x=mcdonalds['Age'], palette='hsv')\n",
    "plt.title('Age distribution of customers', fontsize=15)\n",
    "plt.show()"
   ]
  },
  {
   "cell_type": "code",
   "execution_count": null,
   "metadata": {
    "id": "Be8lvLqAT5sy"
   },
   "outputs": [],
   "source": [
    "import numpy as np"
   ]
  },
  {
   "cell_type": "markdown",
   "metadata": {
    "id": "aQK3iH_OM02m"
   },
   "source": [
    "**Calculating Column Means after converting them into numeric value**"
   ]
  },
  {
   "cell_type": "code",
   "execution_count": null,
   "metadata": {
    "colab": {
     "base_uri": "https://localhost:8080/"
    },
    "id": "aM_Amy46T53R",
    "outputId": "e6d54229-d4a7-4537-f2be-2153a5b98abc"
   },
   "outputs": [],
   "source": [
    "MD_x = mcdonalds.iloc[:, 0:11].values\n",
    "\n",
    "# Convert \"Yes\" to 1 and other values to 0\n",
    "MD_x = np.where(MD_x == \"Yes\", 1, 0)\n",
    "\n",
    "# Define the column names\n",
    "column_names = [\"yummy\", \"convenient\", \"spicy\", \"fattening\", \"greasy\",\n",
    "                \"fast\", \"cheap\", \"tasty\", \"expensive\", \"healthy\", \"disgusting\"]\n",
    "\n",
    "# Calculate the column means and round to 2 decimal places\n",
    "column_means = np.round(np.mean(MD_x, axis=0), 2)\n",
    "\n",
    "# Print the column names and means\n",
    "for name, mean in zip(column_names, column_means):\n",
    "    print(f\"{name}\\n{mean}\")"
   ]
  },
  {
   "cell_type": "markdown",
   "metadata": {
    "id": "CrfGZ3KwzNRE"
   },
   "source": [
    "**Applying Principal Component Analysis**"
   ]
  },
  {
   "cell_type": "code",
   "execution_count": null,
   "metadata": {
    "id": "Ce8oCowENET3"
   },
   "outputs": [],
   "source": [
    "from sklearn.decomposition import PCA"
   ]
  },
  {
   "cell_type": "code",
   "execution_count": null,
   "metadata": {
    "colab": {
     "base_uri": "https://localhost:8080/"
    },
    "id": "gpwfNMNnVOCT",
    "outputId": "3d6f85d9-405c-42c4-db21-7f53f197b3a2"
   },
   "outputs": [],
   "source": [
    "# Select columns 1 to 11 and convert to matrix\n",
    "MD_x = mcdonalds.iloc[:, 0:11].values\n",
    "\n",
    "# Convert \"Yes\" to 1 and other values to 0\n",
    "MD_x = (MD_x == \"Yes\").astype(int)\n",
    "\n",
    "# Perform PCA\n",
    "pca = PCA()\n",
    "MD_pca = pca.fit_transform(MD_x)\n",
    "\n",
    "# Print the summary\n",
    "component_names = [f\"PC{i+1}\" for i in range(pca.n_components_)]\n",
    "explained_variance = pca.explained_variance_\n",
    "explained_variance_ratio = pca.explained_variance_ratio_\n",
    "cumulative_proportion = np.cumsum(explained_variance_ratio)\n",
    "\n",
    "print(\"Importance of components:\")\n",
    "print(\" \".join(component_names))\n",
    "print(\"Standard deviation\", \" \".join([f\"{std:.5f}\" for std in np.sqrt(explained_variance)]))\n",
    "print(\"Proportion of Variance\", \" \".join([f\"{prop:.5f}\" for prop in explained_variance_ratio]))\n",
    "print(\"Cumulative Proportion\", \" \".join([f\"{cum:.5f}\" for cum in cumulative_proportion]))\n"
   ]
  },
  {
   "cell_type": "markdown",
   "metadata": {
    "id": "KDdvXl2s0tUG"
   },
   "source": [
    "**Calculating correlation coefficient**"
   ]
  },
  {
   "cell_type": "code",
   "execution_count": null,
   "metadata": {
    "colab": {
     "base_uri": "https://localhost:8080/"
    },
    "id": "LPhTqlJOVOIT",
    "outputId": "fb1dfa2a-dc25-4a7f-cfdd-420a1fb89478"
   },
   "outputs": [],
   "source": [
    "# Print the standard deviations\n",
    "print(\"Standard deviations (1, .., p=11):\")\n",
    "print(pca.singular_values_.round(1))\n",
    "\n",
    "# Print the rotation\n",
    "print(\"Rotation (n x k) = (11 x 11):\")\n",
    "rotation_df = pd.DataFrame(pca.components_, columns=mcdonalds.columns[:11])\n",
    "rotation_df.columns = [f\"PC{i+1}\" for i in range(pca.n_components_)]\n",
    "print(rotation_df.round(3))\n"
   ]
  },
  {
   "cell_type": "markdown",
   "metadata": {
    "id": "imdWeiEt1Qs0"
   },
   "source": [
    "**The following commands rotate and\n",
    "project consumers (in grey) into the first two principal components, plot them and\n",
    "add the rotated and projected original segmentation variables**"
   ]
  },
  {
   "cell_type": "code",
   "execution_count": null,
   "metadata": {
    "colab": {
     "base_uri": "https://localhost:8080/",
     "height": 1000
    },
    "id": "wsUvB08JT591",
    "outputId": "9082b67a-7ed9-4f79-9ba2-119b8b118788"
   },
   "outputs": [],
   "source": [
    "from sklearn.decomposition import PCA\n",
    "from sklearn.cluster import KMeans\n",
    "from sklearn.preprocessing import StandardScaler\n",
    "from sklearn.pipeline import make_pipeline\n",
    "\n",
    "\n",
    "# Select columns 1 to 11 and convert to matrix\n",
    "MD_x = mcdonalds.iloc[:, 0:11].values\n",
    "\n",
    "# Convert \"Yes\" to 1 and other values to 0\n",
    "MD_x = (MD_x == \"Yes\").astype(int)\n",
    "\n",
    "# Perform PCA\n",
    "pca = PCA(n_components=2)\n",
    "MD_pca = pca.fit_transform(MD_x)\n",
    "\n",
    "# Standardize the data\n",
    "scaler = StandardScaler()\n",
    "MD_scaled = scaler.fit_transform(MD_pca)\n",
    "\n",
    "# Perform clustering\n",
    "kmeans = KMeans(n_clusters=3, random_state=0)\n",
    "kmeans.fit(MD_scaled)\n",
    "\n",
    "# Plot the results\n",
    "plt.scatter(MD_scaled[:, 0], MD_scaled[:, 1], c=kmeans.labels_, cmap=\"viridis\")\n",
    "plt.xlabel(\"PC1\")\n",
    "plt.ylabel(\"PC2\")\n",
    "plt.title(\"PCA Projection with Clustering\")\n",
    "plt.colorbar(label=\"Cluster\")\n",
    "plt.show()\n"
   ]
  },
  {
   "cell_type": "markdown",
   "metadata": {
    "id": "GcFTu7bQjv60"
   },
   "source": [
    "**Centroids of each cluster**"
   ]
  },
  {
   "cell_type": "code",
   "execution_count": null,
   "metadata": {
    "colab": {
     "base_uri": "https://localhost:8080/"
    },
    "id": "8OLHCaNc5Nvg",
    "outputId": "5ef4308d-bae8-4570-bf98-ade4fca181bc"
   },
   "outputs": [],
   "source": [
    "kmeans = KMeans(n_clusters=4, init='k-means++', random_state=0).fit(df_eleven)\n",
    "mcdonalds['cluster'] = kmeans.labels_\n",
    "print (kmeans.labels_)\n",
    "print (kmeans.inertia_)\n",
    "print(kmeans.n_iter_)\n",
    "print(kmeans.cluster_centers_)"
   ]
  },
  {
   "cell_type": "code",
   "execution_count": null,
   "metadata": {
    "colab": {
     "base_uri": "https://localhost:8080/"
    },
    "id": "XseSzeoS5Nyl",
    "outputId": "e463c4a2-c574-49bc-dad2-37bb30b313ff"
   },
   "outputs": [],
   "source": [
    "from collections import Counter\n",
    "Counter(kmeans.labels_)"
   ]
  },
  {
   "cell_type": "markdown",
   "metadata": {
    "id": "a45RSx_WjNQc"
   },
   "source": [
    "**Graphical Representation of Clusters**"
   ]
  },
  {
   "cell_type": "code",
   "execution_count": null,
   "metadata": {},
   "outputs": [],
   "source": [
    "import pandas as pd\n",
    "import numpy as np\n",
    "import matplotlib.pyplot as plt\n",
    "from sklearn.decomposition import PCA\n",
    "\n",
    "# Assuming MD_pca is a result of PCA\n",
    "pca = PCA()\n",
    "pca.fit(MD_x)\n",
    "\n",
    "# Get the transformed data\n",
    "transformed_data = pca.transform(MD_x)\n",
    "\n",
    "# Convert the transformed data to a DataFrame\n",
    "df_transformed = pd.DataFrame(transformed_data, columns=[f'PC{i+1}' for i in range(transformed_data.shape[1])])\n",
    "\n",
    "# Create a biplot\n",
    "def biplot(score, coeff, labels=None):\n",
    "    xs = score[:, 0]\n",
    "    ys = score[:, 1]\n",
    "    n = coeff.shape[0]\n",
    "    scalex = 1.0 / (xs.max() - xs.min())\n",
    "    scaley = 1.0 / (ys.max() - ys.min())\n",
    "    \n",
    "    plt.scatter(xs * scalex, ys * scaley, c='grey')\n",
    "    \n",
    "    for i in range(n):\n",
    "        plt.arrow(0, 0, coeff[i, 0], coeff[i, 1], color='r', alpha=0.5)\n",
    "        if labels is None:\n",
    "            plt.text(coeff[i, 0] * 1.15, coeff[i, 1] * 1.15, \"Var\" + str(i))\n",
    "        else:\n",
    "            plt.text(coeff[i, 0] * 1.15, coeff[i, 1] * 1.15, labels[i], color='g')\n",
    "\n",
    "# Call the function\n",
    "biplot(transformed_data[:, :2], np.transpose(pca.components_[:2, :]), labels=df_transformed.columns)\n",
    "\n",
    "# Customize the plot\n",
    "plt.title('PCA Biplot')\n",
    "plt.xlabel('PC1')\n",
    "plt.ylabel('PC2')\n",
    "plt.grid()\n",
    "plt.show()"
   ]
  },
  {
   "cell_type": "markdown",
   "metadata": {
    "id": "YYhwgrSuhusn"
   },
   "source": [
    "**Converting the 'Like' column into numeric column**"
   ]
  },
  {
   "cell_type": "code",
   "execution_count": null,
   "metadata": {
    "id": "Lp0D42ZtiKOq"
   },
   "outputs": [],
   "source": [
    "mcdonalds['Like']= mcdonalds['Like'].replace({'I hate it!-5': '-5','I love it!+5':'+5'})"
   ]
  },
  {
   "cell_type": "code",
   "execution_count": null,
   "metadata": {
    "colab": {
     "base_uri": "https://localhost:8080/",
     "height": 556
    },
    "id": "UVguzKZMhSpO",
    "outputId": "cc932397-1b4c-4852-d07b-60e24129c4a5"
   },
   "outputs": [],
   "source": [
    "sns.catplot(x=\"Like\", y=\"Age\",data=mcdonalds,\n",
    "            orient=\"v\", height=5, aspect=2, palette=\"Set2\",kind=\"swarm\")\n",
    "plt.title('Like vs Age')\n",
    "plt.show()"
   ]
  },
  {
   "cell_type": "code",
   "execution_count": null,
   "metadata": {
    "colab": {
     "base_uri": "https://localhost:8080/",
     "height": 1000
    },
    "id": "nolbg-LPZrHU",
    "outputId": "60d76fd4-0d8e-4e2a-ec77-0b238b48d65a"
   },
   "outputs": [],
   "source": [
    "from statsmodels.graphics.mosaicplot import mosaic\n",
    "from itertools import product\n",
    "crosstab = pd.crosstab(mcdonalds['cluster'], mcdonalds['Like'])\n",
    "desired_columns = ['-5','-4', '-3', '-2', '-1', '0', '+1', '+2', '+3', '+4','+5']\n",
    "crosstab = crosstab.reindex(columns=desired_columns)"
   ]
  },
  {
   "cell_type": "markdown",
   "metadata": {
    "id": "PdCMmCUZiiFs"
   },
   "source": [
    "**Number of Male and Female in each Cluster**"
   ]
  },
  {
   "cell_type": "code",
   "execution_count": null,
   "metadata": {
    "colab": {
     "base_uri": "https://localhost:8080/",
     "height": 206
    },
    "id": "qj3dSvcjZrSt",
    "outputId": "4000edaf-b933-4fcf-a122-de342aa9e576"
   },
   "outputs": [],
   "source": [
    "crosstab_gender =pd.crosstab(mcdonalds['cluster'],mcdonalds['Gender'])\n",
    "crosstab_gender"
   ]
  },
  {
   "cell_type": "markdown",
   "metadata": {
    "id": "JIv3YJySiu5q"
   },
   "source": [
    "**Age vs Cluster**"
   ]
  },
  {
   "cell_type": "code",
   "execution_count": null,
   "metadata": {
    "colab": {
     "base_uri": "https://localhost:8080/",
     "height": 1000
    },
    "id": "JATX2in7ZrWS",
    "outputId": "36f262f3-5539-4b85-fded-d59f0106740a"
   },
   "outputs": [],
   "source": [
    "sns.boxplot(x=\"cluster\", y=\"Age\", data=mcdonalds,color='cyan',)"
   ]
  },
  {
   "cell_type": "code",
   "execution_count": null,
   "metadata": {},
   "outputs": [],
   "source": []
  }
 ],
 "metadata": {
  "colab": {
   "provenance": []
  },
  "kernelspec": {
   "display_name": "Python 3 (ipykernel)",
   "language": "python",
   "name": "python3"
  },
  "language_info": {
   "codemirror_mode": {
    "name": "ipython",
    "version": 3
   },
   "file_extension": ".py",
   "mimetype": "text/x-python",
   "name": "python",
   "nbconvert_exporter": "python",
   "pygments_lexer": "ipython3",
   "version": "3.9.12"
  }
 },
 "nbformat": 4,
 "nbformat_minor": 1
}
